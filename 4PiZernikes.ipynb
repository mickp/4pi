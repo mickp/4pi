{
 "cells": [
  {
   "cell_type": "code",
   "execution_count": 1,
   "metadata": {
    "collapsed": false
   },
   "outputs": [
    {
     "name": "stdout",
     "output_type": "stream",
     "text": [
      "Using matplotlib backend: TkAgg\n"
     ]
    },
    {
     "name": "stderr",
     "output_type": "stream",
     "text": [
      "C:\\python3\\python-3.5.2.amd64\\lib\\re.py:203: FutureWarning: split() requires a non-empty pattern match.\n",
      "  return _compile(pattern, flags).split(string, maxsplit)\n"
     ]
    }
   ],
   "source": [
    "%matplotlib\n",
    "import numpy as np\n",
    "import matplotlib.pyplot as plt\n",
    "from matplotlib.widgets import Slider\n",
    "from mpl_toolkits.mplot3d import Axes3D\n",
    "import sys\n",
    "import os\n",
    "import re\n",
    "PATH = os.path.join(\".\", \"4PiZernikes\")\n",
    "FILES = [{'filename':fn,\n",
    "         'offset': float(re.match(r\".*([\\+|-][0-9]+\\.[0-9]+).*\", fn).groups()[0]),}\n",
    "         for fn in os.listdir(PATH) if re.match(r\"zernike\", fn)]\n",
    "\n",
    "for f in FILES:\n",
    "    with open(os.path.join(PATH, f['filename']), 'r', encoding='utf-16-le') as fh:\n",
    "        row = ' '\n",
    "        # Skip header\n",
    "        while(row and not re.match(r\"\\s*Field:\", row)):\n",
    "            row = fh.readline()\n",
    "        raw = list(fh)\n",
    "        data = []\n",
    "        for row in raw:\n",
    "            data.append([float(col) for col in re.split(r\"\\s*\", row.strip())])\n",
    "        f['field'] = np.array([d[0] for d in data])\n",
    "        f['zernike'] = np.array([d[1:] for d in data])\n",
    "        \n",
    "with open(os.path.join(PATH, \"mag.TXT\"), encoding='utf-16-le') as fh:\n",
    "    row = ' '\n",
    "    while(row and not re.match(\"\\s*X\\s*Y\", row)):\n",
    "        row = fh.readline()\n",
    "    raw = list(fh)\n",
    "    MAG = np.split(np.array([[float(col) for col in re.split(r\"\\s*\", row.strip())] \n",
    "                                    for row in raw]).T, 2)[1].flatten()\n",
    "\n",
    "FIELD = FILES[0]['field']\n",
    "order = np.argsort([F['offset'] for F in FILES])\n",
    "OFFSET = np.array([FILES[o]['offset'] for o in order])\n",
    "ALLDATA = np.array([FILES[o]['zernike'] for o in order])"
   ]
  },
  {
   "cell_type": "code",
   "execution_count": 2,
   "metadata": {
    "collapsed": false
   },
   "outputs": [],
   "source": [
    "# Surface plot for one mode.\n",
    "mode = 0\n",
    "fig = plt.figure()\n",
    "ax = fig.add_subplot(111, projection='3d')\n",
    "X, Y = np.meshgrid(OFFSET, FIELD)\n",
    "ax.plot_surface(X,Y, ALLDATA[:,:,mode].T, rstride=1, cstride=1)\n",
    "fig.show()"
   ]
  },
  {
   "cell_type": "code",
   "execution_count": 4,
   "metadata": {
    "collapsed": false
   },
   "outputs": [],
   "source": [
    "# Interactive plot for all modes.\n",
    "import numpy as np\n",
    "import matplotlib.pyplot as plt\n",
    "\n",
    "def do_interp(offset, data):\n",
    "    for z in range(data.shape[1]):\n",
    "        for f in range(data.shape[0]):\n",
    "            data[f,z] = np.interp([offset], OFFSET, ALLDATA[:,f,z])\n",
    "    mag = np.interp([offset], OFFSET, MAG)\n",
    "    return data, mag\n",
    "\n",
    "fig, ax = plt.subplots()\n",
    "plt.subplots_adjust(left=0.1, bottom=0.25, right=0.8)\n",
    "axoffset = plt.axes([0.1, 0.1, 0.7, 0.03])\n",
    "\n",
    "data, mag = do_interp(0, np.zeros_like(FILES[0]['zernike']))\n",
    "lines = ax.plot(FIELD, data)\n",
    "for (i, l) in enumerate(lines):\n",
    "    l.set_linestyle(['-','-.',':','--'][int(i/7)])\n",
    "\n",
    "ax.set_title(\"Mag = %.2f\" % mag)\n",
    "ax.set_xlim(FIELD.min(), FIELD.max())\n",
    "ax.set_ylim(ALLDATA.min(), ALLDATA.max())\n",
    "ax.set_xlabel('field / mm')\n",
    "ax.set_ylabel('Zernike coefficient / waves')\n",
    "ax.legend([l for l in lines], range(len(lines)), loc='center left', \n",
    "          bbox_to_anchor=(1.05, 0.5), \n",
    "          bbox_transform=ax.transAxes, \n",
    "          title=\"Standard\\nZernike\\ncoefficient\")\n",
    "\n",
    "\n",
    "soffset = Slider(axoffset, '', OFFSET.min(), OFFSET.max(), valinit=0, closedmin=True, closedmax=True)\n",
    "axoffset.set_xlabel('offset / mm')\n",
    "\n",
    "\n",
    "def update(val):\n",
    "    offset = soffset.val\n",
    "    soffset.poly.set_color(['red','blue'][offset >= soffset.valinit])\n",
    "    data, mag = do_interp(offset, np.zeros_like(FILES[0]['zernike']))\n",
    "    ax.set_title(\"Mag = %.2f\" % mag)\n",
    "    for i, l in enumerate(lines):\n",
    "        l.set_ydata(data[:,i])\n",
    "    #ax.relim()\n",
    "    #ax.autoscale(enable=True, axis='y')\n",
    "    #ax.autoscale(False, True)\n",
    "    \n",
    "soffset.on_changed(update)\n",
    "\n",
    "plt.show()"
   ]
  },
  {
   "cell_type": "code",
   "execution_count": null,
   "metadata": {
    "collapsed": true
   },
   "outputs": [],
   "source": []
  }
 ],
 "metadata": {
  "kernelspec": {
   "display_name": "Python 3",
   "language": "python",
   "name": "python3"
  },
  "language_info": {
   "codemirror_mode": {
    "name": "ipython",
    "version": 3
   },
   "file_extension": ".py",
   "mimetype": "text/x-python",
   "name": "python",
   "nbconvert_exporter": "python",
   "pygments_lexer": "ipython3",
   "version": "3.5.2"
  }
 },
 "nbformat": 4,
 "nbformat_minor": 0
}
